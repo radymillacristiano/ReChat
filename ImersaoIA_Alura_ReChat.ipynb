{
  "nbformat": 4,
  "nbformat_minor": 0,
  "metadata": {
    "colab": {
      "provenance": []
    },
    "kernelspec": {
      "name": "python3",
      "display_name": "Python 3"
    },
    "language_info": {
      "name": "python"
    }
  },
  "cells": [
    {
      "cell_type": "markdown",
      "source": [
        "**Primeiros Passos**"
      ],
      "metadata": {
        "id": "qXzCo-ey1_bJ"
      }
    },
    {
      "cell_type": "code",
      "source": [
        "# Instalações e Imports iniciais\n",
        "!pip install -q -U google-generativeai\n",
        "import google.generativeai as genai"
      ],
      "metadata": {
        "id": "mmb1WG0lYa_Y"
      },
      "execution_count": null,
      "outputs": []
    },
    {
      "cell_type": "code",
      "source": [
        "# Configurações\n",
        "GOOGLE_API_KEY=\"YOUR_GOOGLE_API_KEY\"\n",
        "genai.configure(api_key=GOOGLE_API_KEY)\n",
        "\n",
        "# Listando os modelos disponíveis\n",
        "for m in genai.list_models():\n",
        "  if 'generateContent' in m.supported_generation_methods:\n",
        "    print(m.name)\n",
        "\n",
        "# Ajustando parametros\n",
        "\n",
        "generation_config = {\n",
        "  \"temperature\": 1,\n",
        "  \"top_p\": 0.95,\n",
        "  \"top_k\": 0,\n",
        "}\n",
        "\n",
        "safety_settings = [\n",
        "  {\n",
        "    \"category\": \"HARM_CATEGORY_HARASSMENT\",\n",
        "    \"threshold\": \"BLOCK_ONLY_HIGH\"\n",
        "  },\n",
        "  {\n",
        "    \"category\": \"HARM_CATEGORY_HATE_SPEECH\",\n",
        "    \"threshold\": \"BLOCK_ONLY_HIGH\"\n",
        "  },\n",
        "  {\n",
        "    \"category\": \"HARM_CATEGORY_SEXUALLY_EXPLICIT\",\n",
        "    \"threshold\": \"BLOCK_ONLY_HIGH\"\n",
        "  },\n",
        "  {\n",
        "    \"category\": \"HARM_CATEGORY_DANGEROUS_CONTENT\",\n",
        "    \"threshold\": \"BLOCK_ONLY_HIGH\"\n",
        "  },\n",
        "]\n",
        "\n",
        "# Instruções para o modelo\n",
        "\n",
        "system_instruction = \"Você é o ReChat, um instrutor amigável e entusiasmado de reciclagem que ensinará as pessoas a reusarem, reciclarem ou descartarem corretamente seus resíduos.\\n\\nInstruções gerais durante o diálogo\\n\\n- Fornecer informações completas e atualizadas sobre reciclagem, reuso e descarte correto de resíduos, com imagens, vídeos e links para websites relevantes.\\n- Fazer perguntas para entender melhor o interesse do usuário e oferecer informações mais personalizadas.\\n- Fornecer feedback personalizado aos usuários com base em suas escolhas e ações dentro dos cenários, orientando-os em direção a práticas mais sustentáveis.\\n- Apresentar exemplos práticos do dia a dia para facilitar a compreensão do usuário, fazer questionamentos sobre a situação para fazer o usuário refletir rapidamente.\\n- Oferecer dicas extras e curiosidades sobre o mundo da reciclagem para estimular o aprendizado e a mudança de comportamento em relação à reciclagem de forma interativa e engajadora.\\n\\nEstrutura de Diálogo para o ReChat\\n\\n1. Boas-vindas e Apresentação:\\n\\nMensagem inicial: \\\"Olá! Seja bem-vindo(a) ao ReChat, seu guia completo para o mundo da reciclagem! ♻️ Sou um chatbot criado para te ajudar a entender como reciclar, reutilizar e descartar corretamente os resíduos do seu dia a dia.\\\"\\n\\nPerguntas iniciais:\\n\\\"Qual o seu nome?\\\"\\n\\\"Em qual cidade você mora?\\\"\\n\\\"Você já tem o hábito de reciclar em casa?\\\"\\nObjetivo: Criar uma conexão pessoal com o usuário e entender seu nível de conhecimento sobre reciclagem.\\n\\n2. Avaliação e Orientação Personalizada:\\n\\nPerguntas de avaliação:\\n\\\"Quais tipos de materiais você costuma reciclar em casa?\\\"\\n\\\"Você tem dúvidas sobre como reciclar algum material específico?\\\"\\n\\\"Já conhece os pontos de coleta seletiva da sua cidade?\\\"\\nObjetivo: Identificar as necessidades e desafios do usuário em relação à reciclagem.\\n\\nImportante, após essas interações, sempre informar o menu principal com as funcionalidades disponíveis:\\n\\nApresentar um menu com opções como:\\nO que posso reciclar?\\nComo reciclar cada material?\\nOnde encontrar pontos de coleta?\\nDicas para reduzir o lixo\\nDesafios da reciclagem\\n\\Finalizar sessão ou comando 'sair'\\nDesafios da reciclagem\\n\\n3. Exploração Personalizada:\\n\\nPerguntas de aprofundamento:\\n\\\"Em qual material você tem mais dúvidas para reciclar?\\\"\\n\\\"Você gostaria de saber mais sobre a coleta seletiva na sua região?\\\"\\n\\\"Que tipo de dicas para reduzir o lixo você gostaria de receber?\\\"\\nObjetivo: Guiar o usuário em uma jornada personalizada de acordo com suas necessidades e interesses.\\n\\n4. Encerramento e Feedback:\\n\\nMensagem de despedida: \\\"Foi um prazer te auxiliar na sua jornada pela reciclagem! Espero que você tenha aprendido algo novo e que o ReChat te ajude a se tornar um(a) reciclador(a) mais consciente e responsável. ♻️\\\"\\nPergunta de feedback: \\\"O que você achou do ReChat? Qual foi a parte que você mais gostou e o que poderia ser melhorado?\\\"\\nConvite para ação: \\\"Continue aprendendo sobre reciclagem e compartilhe suas dicas com seus amigos e familiares! ♻️\\\"\\nObjetivo: Coletar feedback para aprimorar o chatbot e atender melhor às necessidades dos usuários.\\n\"\n",
        "\n",
        "model = genai.GenerativeModel(model_name=\"gemini-1.5-pro-latest\",\n",
        "                              generation_config=generation_config,\n",
        "                              system_instruction=system_instruction,\n",
        "                              safety_settings=safety_settings)"
      ],
      "metadata": {
        "id": "a3OzauGhv30K"
      },
      "execution_count": null,
      "outputs": []
    },
    {
      "cell_type": "markdown",
      "source": [
        "**Manipulação dos atributos e features do Gemini para criar o Chat**"
      ],
      "metadata": {
        "id": "r_dSL5Gj2Fzk"
      }
    },
    {
      "cell_type": "code",
      "source": [
        "# ChatBot\n",
        "chat = model.start_chat(history=[])\n",
        "\n",
        "print(\"\\033[1m\\033[92mO planeta te chama! Junte-se à revolução verde com o ReChat, seu guia personalizado para um futuro mais sustentável! ♻️\\n\\033[0m\")\n",
        "\n",
        "prompt = input('Digite seu nome para embarcarmos nessa missão juntos: ')\n",
        "\n",
        "while prompt != \"sair\":\n",
        "  response = chat.send_message(prompt)\n",
        "  print(\"ReChat:\", response.text, '\\n\\n')\n",
        "  prompt = input(' ')\n"
      ],
      "metadata": {
        "id": "8vJbcxJMcsxT",
        "collapsed": true
      },
      "execution_count": null,
      "outputs": []
    },
    {
      "cell_type": "markdown",
      "source": [
        "**Melhorando a visualização**"
      ],
      "metadata": {
        "id": "vXC5S_ymoU8-"
      }
    },
    {
      "cell_type": "code",
      "source": [
        "#Código disponível em https://ai.google.dev/tutorials/python_quickstart#import_packages\n",
        "import textwrap\n",
        "from IPython.display import display\n",
        "from IPython.display import Markdown\n",
        "\n",
        "def to_markdown(text):\n",
        "  text = text.replace('•', '  *')\n",
        "  return Markdown(textwrap.indent(text, '> ', predicate=lambda _: True))\n",
        "\n",
        "#Imprimindo o histórico\n",
        "for message in chat.history:\n",
        "  display(to_markdown(f'**{message.role}**: {message.parts[0].text}'))\n",
        "  print('-------------------------------------------')"
      ],
      "metadata": {
        "id": "jmBR_m17wbyR"
      },
      "execution_count": null,
      "outputs": []
    }
  ]
}